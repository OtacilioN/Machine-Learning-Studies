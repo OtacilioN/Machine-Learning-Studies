{
 "cells": [
  {
   "cell_type": "markdown",
   "metadata": {},
   "source": [
    "### Import libs and data from sklearn, load it at panda dataframe and print info"
   ]
  },
  {
   "cell_type": "code",
   "execution_count": 111,
   "metadata": {},
   "outputs": [
    {
     "output_type": "stream",
     "name": "stdout",
     "text": "<class 'pandas.core.frame.DataFrame'>\nRangeIndex: 178 entries, 0 to 177\nData columns (total 14 columns):\n #   Column                        Non-Null Count  Dtype  \n---  ------                        --------------  -----  \n 0   alcohol                       178 non-null    float64\n 1   malic_acid                    178 non-null    float64\n 2   ash                           178 non-null    float64\n 3   alcalinity_of_ash             178 non-null    float64\n 4   magnesium                     178 non-null    float64\n 5   total_phenols                 178 non-null    float64\n 6   flavanoids                    178 non-null    float64\n 7   nonflavanoid_phenols          178 non-null    float64\n 8   proanthocyanins               178 non-null    float64\n 9   color_intensity               178 non-null    float64\n 10  hue                           178 non-null    float64\n 11  od280/od315_of_diluted_wines  178 non-null    float64\n 12  proline                       178 non-null    float64\n 13  target                        178 non-null    float64\ndtypes: float64(14)\nmemory usage: 19.6 KB\n"
    }
   ],
   "source": [
    "from sklearn import datasets\n",
    "import pandas as pd\n",
    "import numpy as np\n",
    "import seaborn as sns \n",
    "from sklearn.model_selection import cross_val_score, train_test_split\n",
    "from sklearn.preprocessing import StandardScaler\n",
    "from sklearn.linear_model import LogisticRegression\n",
    "from sklearn.metrics import confusion_matrix, classification_report\n",
    "data = datasets.load_wine()\n",
    "wine = pd.DataFrame(data=np.c_[data['data'], data['target']], columns= data['feature_names'] + ['target'])\n",
    "wine.info()"
   ]
  },
  {
   "cell_type": "markdown",
   "metadata": {},
   "source": [
    "### Remove target fom dataframe and save it at \"y\" variable, copy dataframe data to \"X\" variable and split this in train and test."
   ]
  },
  {
   "cell_type": "code",
   "execution_count": 112,
   "metadata": {},
   "outputs": [],
   "source": [
    "y = wine[['target']]\n",
    "wine.drop('target',axis=1,inplace=True)\n",
    "X = wine[['alcohol', 'malic_acid', \"ash\", \"alcalinity_of_ash\", \"magnesium\", \"total_phenols\", \"flavanoids\", \"nonflavanoid_phenols\", \"proanthocyanins\", \"color_intensity\", \"hue\", \"od280/od315_of_diluted_wines\", \"proline\" ]]\n",
    "\n",
    "X_train, X_test, y_train, y_test = train_test_split(X, y, test_size=0.30, random_state=42)"
   ]
  },
  {
   "cell_type": "markdown",
   "metadata": {},
   "source": [
    "### Scale train data"
   ]
  },
  {
   "cell_type": "code",
   "execution_count": 113,
   "metadata": {},
   "outputs": [],
   "source": [
    "train_scaler = StandardScaler()\n",
    "X_train[['alcohol', 'malic_acid', \"ash\", \"alcalinity_of_ash\", \"magnesium\", \"total_phenols\", \"flavanoids\", \"nonflavanoid_phenols\", \"proanthocyanins\", \"color_intensity\", \"hue\", \"od280/od315_of_diluted_wines\", \"proline\" ]] = train_scaler.fit_transform(X_train[['alcohol', 'malic_acid', \"ash\", \"alcalinity_of_ash\", \"magnesium\", \"total_phenols\", \"flavanoids\", \"nonflavanoid_phenols\", \"proanthocyanins\", \"color_intensity\", \"hue\", \"od280/od315_of_diluted_wines\", \"proline\" ]])"
   ]
  },
  {
   "cell_type": "markdown",
   "metadata": {},
   "source": [
    "### Scale test data"
   ]
  },
  {
   "cell_type": "code",
   "execution_count": 114,
   "metadata": {},
   "outputs": [],
   "source": [
    "test_scaler = StandardScaler()\n",
    "X_test[['alcohol', 'malic_acid', \"ash\", \"alcalinity_of_ash\", \"magnesium\", \"total_phenols\", \"flavanoids\", \"nonflavanoid_phenols\", \"proanthocyanins\", \"color_intensity\", \"hue\", \"od280/od315_of_diluted_wines\", \"proline\" ]] = test_scaler.fit_transform(X_test[['alcohol', 'malic_acid', \"ash\", \"alcalinity_of_ash\", \"magnesium\", \"total_phenols\", \"flavanoids\", \"nonflavanoid_phenols\", \"proanthocyanins\", \"color_intensity\", \"hue\", \"od280/od315_of_diluted_wines\", \"proline\" ]])"
   ]
  },
  {
   "cell_type": "markdown",
   "metadata": {},
   "source": [
    "### Apply Logistic regression with cross validation"
   ]
  },
  {
   "cell_type": "code",
   "execution_count": 115,
   "metadata": {},
   "outputs": [
    {
     "output_type": "stream",
     "name": "stdout",
     "text": "Best accuracy: 0.984 with +/- error: 0.03919183588453088\n"
    }
   ],
   "source": [
    "model = LogisticRegression()\n",
    "scores = cross_val_score(model, X_train, y_train, cv=5)\n",
    "accuracy = scores.mean()\n",
    "err = scores.std() * 2\n",
    "print(\"Best accuracy:\", accuracy, \"with +/- error:\", err)"
   ]
  },
  {
   "cell_type": "markdown",
   "metadata": {},
   "source": [
    "### Test variations of parameters solver and multiclass"
   ]
  },
  {
   "cell_type": "code",
   "execution_count": 116,
   "metadata": {},
   "outputs": [
    {
     "output_type": "stream",
     "name": "stdout",
     "text": "Best accuracy with params [solver=newton-cg] [multi_class=auto] : 0.984 with +/- error:  0.03919183588453088\nBest accuracy with params [solver=newton-cg] [multi_class=ovr] : 0.984 with +/- error:  0.03919183588453088\nBest accuracy with params [solver=newton-cg] [multi_class=multinomial] : 0.984 with +/- error:  0.03919183588453088\nBest accuracy with params [solver=lbfgs] [multi_class=auto] : 0.984 with +/- error:  0.03919183588453088\nBest accuracy with params [solver=lbfgs] [multi_class=ovr] : 0.984 with +/- error:  0.03919183588453088\nBest accuracy with params [solver=lbfgs] [multi_class=multinomial] : 0.984 with +/- error:  0.03919183588453088\nBest accuracy with params [solver=liblinear] [multi_class=auto] : 0.984 with +/- error:  0.03919183588453088\nBest accuracy with params [solver=liblinear] [multi_class=ovr] : 0.984 with +/- error:  0.03919183588453088\nBest accuracy with params [solver=liblinear] [multi_class=multinomial] : nan with +/- error:  nan\nBest accuracy with params [solver=sag] [multi_class=auto] : 0.984 with +/- error:  0.03919183588453088\nBest accuracy with params [solver=sag] [multi_class=ovr] : 0.984 with +/- error:  0.03919183588453088\nBest accuracy with params [solver=sag] [multi_class=multinomial] : 0.984 with +/- error:  0.03919183588453088\nBest accuracy with params [solver=saga] [multi_class=auto] : 0.984 with +/- error:  0.03919183588453088\nBest accuracy with params [solver=saga] [multi_class=ovr] : 0.984 with +/- error:  0.03919183588453088\nBest accuracy with params [solver=saga] [multi_class=multinomial] : 0.984 with +/- error:  0.03919183588453088\n"
    }
   ],
   "source": [
    "solvers = [\"newton-cg\", \"lbfgs\", \"liblinear\", \"sag\", \"saga\"]\n",
    "multiclasses = [\"auto\", \"ovr\", \"multinomial\"]\n",
    "\n",
    "for solver in solvers:\n",
    "    for multiclass in multiclasses:\n",
    "        model = LogisticRegression(solver=solver, multi_class=multiclass)\n",
    "        scores = cross_val_score(model, X_train, y_train, cv=5)\n",
    "        accuracy = scores.mean()\n",
    "        err = scores.std() * 2\n",
    "        print(\"Best accuracy with params [solver=\"+ solver+ \"] [multi_class=\"+ multiclass+ \"] :\", accuracy, \"with +/- error: \", err)\n"
   ]
  },
  {
   "cell_type": "code",
   "execution_count": 117,
   "metadata": {},
   "outputs": [
    {
     "output_type": "execute_result",
     "data": {
      "text/plain": "<matplotlib.axes._subplots.AxesSubplot at 0x1a1c0d3110>"
     },
     "metadata": {},
     "execution_count": 117
    },
    {
     "output_type": "display_data",
     "data": {
      "text/plain": "<Figure size 432x288 with 1 Axes>",
      "image/svg+xml": "<?xml version=\"1.0\" encoding=\"utf-8\" standalone=\"no\"?>\n<!DOCTYPE svg PUBLIC \"-//W3C//DTD SVG 1.1//EN\"\n  \"http://www.w3.org/Graphics/SVG/1.1/DTD/svg11.dtd\">\n<!-- Created with matplotlib (https://matplotlib.org/) -->\n<svg height=\"248.518125pt\" version=\"1.1\" viewBox=\"0 0 365.878125 248.518125\" width=\"365.878125pt\" xmlns=\"http://www.w3.org/2000/svg\" xmlns:xlink=\"http://www.w3.org/1999/xlink\">\n <defs>\n  <style type=\"text/css\">\n*{stroke-linecap:butt;stroke-linejoin:round;}\n  </style>\n </defs>\n <g id=\"figure_1\">\n  <g id=\"patch_1\">\n   <path d=\"M -0 248.518125 \nL 365.878125 248.518125 \nL 365.878125 0 \nL -0 0 \nz\n\" style=\"fill:none;\"/>\n  </g>\n  <g id=\"axes_1\">\n   <g id=\"patch_2\">\n    <path d=\"M 23.878125 224.64 \nL 358.678125 224.64 \nL 358.678125 7.2 \nL 23.878125 7.2 \nz\n\" style=\"fill:#ffffff;\"/>\n   </g>\n   <g id=\"QuadMesh_1\">\n    <path clip-path=\"url(#pbec452acc0)\" d=\"M 23.878125 7.2 \nL 135.478125 7.2 \nL 135.478125 79.68 \nL 23.878125 79.68 \nL 23.878125 7.2 \n\" style=\"fill:#005321;\"/>\n    <path clip-path=\"url(#pbec452acc0)\" d=\"M 135.478125 7.2 \nL 247.078125 7.2 \nL 247.078125 79.68 \nL 135.478125 79.68 \nL 135.478125 7.2 \n\" style=\"fill:#f7fcf5;\"/>\n    <path clip-path=\"url(#pbec452acc0)\" d=\"M 247.078125 7.2 \nL 358.678125 7.2 \nL 358.678125 79.68 \nL 247.078125 79.68 \nL 247.078125 7.2 \n\" style=\"fill:#f7fcf5;\"/>\n    <path clip-path=\"url(#pbec452acc0)\" d=\"M 23.878125 79.68 \nL 135.478125 79.68 \nL 135.478125 152.16 \nL 23.878125 152.16 \nL 23.878125 79.68 \n\" style=\"fill:#f7fcf5;\"/>\n    <path clip-path=\"url(#pbec452acc0)\" d=\"M 135.478125 79.68 \nL 247.078125 79.68 \nL 247.078125 152.16 \nL 135.478125 152.16 \nL 135.478125 79.68 \n\" style=\"fill:#00441b;\"/>\n    <path clip-path=\"url(#pbec452acc0)\" d=\"M 247.078125 79.68 \nL 358.678125 79.68 \nL 358.678125 152.16 \nL 247.078125 152.16 \nL 247.078125 79.68 \n\" style=\"fill:#f0f9ed;\"/>\n    <path clip-path=\"url(#pbec452acc0)\" d=\"M 23.878125 152.16 \nL 135.478125 152.16 \nL 135.478125 224.64 \nL 23.878125 224.64 \nL 23.878125 152.16 \n\" style=\"fill:#f7fcf5;\"/>\n    <path clip-path=\"url(#pbec452acc0)\" d=\"M 135.478125 152.16 \nL 247.078125 152.16 \nL 247.078125 224.64 \nL 135.478125 224.64 \nL 135.478125 152.16 \n\" style=\"fill:#f7fcf5;\"/>\n    <path clip-path=\"url(#pbec452acc0)\" d=\"M 247.078125 152.16 \nL 358.678125 152.16 \nL 358.678125 224.64 \nL 247.078125 224.64 \nL 247.078125 152.16 \n\" style=\"fill:#2f974e;\"/>\n   </g>\n   <g id=\"matplotlib.axis_1\">\n    <g id=\"xtick_1\">\n     <g id=\"line2d_1\">\n      <defs>\n       <path d=\"M 0 0 \nL 0 3.5 \n\" id=\"md05e54a7c7\" style=\"stroke:#000000;stroke-width:0.8;\"/>\n      </defs>\n      <g>\n       <use style=\"stroke:#000000;stroke-width:0.8;\" x=\"79.678125\" xlink:href=\"#md05e54a7c7\" y=\"224.64\"/>\n      </g>\n     </g>\n     <g id=\"text_1\">\n      <!-- 0 -->\n      <defs>\n       <path d=\"M 31.78125 66.40625 \nQ 24.171875 66.40625 20.328125 58.90625 \nQ 16.5 51.421875 16.5 36.375 \nQ 16.5 21.390625 20.328125 13.890625 \nQ 24.171875 6.390625 31.78125 6.390625 \nQ 39.453125 6.390625 43.28125 13.890625 \nQ 47.125 21.390625 47.125 36.375 \nQ 47.125 51.421875 43.28125 58.90625 \nQ 39.453125 66.40625 31.78125 66.40625 \nz\nM 31.78125 74.21875 \nQ 44.046875 74.21875 50.515625 64.515625 \nQ 56.984375 54.828125 56.984375 36.375 \nQ 56.984375 17.96875 50.515625 8.265625 \nQ 44.046875 -1.421875 31.78125 -1.421875 \nQ 19.53125 -1.421875 13.0625 8.265625 \nQ 6.59375 17.96875 6.59375 36.375 \nQ 6.59375 54.828125 13.0625 64.515625 \nQ 19.53125 74.21875 31.78125 74.21875 \nz\n\" id=\"DejaVuSans-48\"/>\n      </defs>\n      <g transform=\"translate(76.496875 239.238437)scale(0.1 -0.1)\">\n       <use xlink:href=\"#DejaVuSans-48\"/>\n      </g>\n     </g>\n    </g>\n    <g id=\"xtick_2\">\n     <g id=\"line2d_2\">\n      <g>\n       <use style=\"stroke:#000000;stroke-width:0.8;\" x=\"191.278125\" xlink:href=\"#md05e54a7c7\" y=\"224.64\"/>\n      </g>\n     </g>\n     <g id=\"text_2\">\n      <!-- 1 -->\n      <defs>\n       <path d=\"M 12.40625 8.296875 \nL 28.515625 8.296875 \nL 28.515625 63.921875 \nL 10.984375 60.40625 \nL 10.984375 69.390625 \nL 28.421875 72.90625 \nL 38.28125 72.90625 \nL 38.28125 8.296875 \nL 54.390625 8.296875 \nL 54.390625 0 \nL 12.40625 0 \nz\n\" id=\"DejaVuSans-49\"/>\n      </defs>\n      <g transform=\"translate(188.096875 239.238437)scale(0.1 -0.1)\">\n       <use xlink:href=\"#DejaVuSans-49\"/>\n      </g>\n     </g>\n    </g>\n    <g id=\"xtick_3\">\n     <g id=\"line2d_3\">\n      <g>\n       <use style=\"stroke:#000000;stroke-width:0.8;\" x=\"302.878125\" xlink:href=\"#md05e54a7c7\" y=\"224.64\"/>\n      </g>\n     </g>\n     <g id=\"text_3\">\n      <!-- 2 -->\n      <defs>\n       <path d=\"M 19.1875 8.296875 \nL 53.609375 8.296875 \nL 53.609375 0 \nL 7.328125 0 \nL 7.328125 8.296875 \nQ 12.9375 14.109375 22.625 23.890625 \nQ 32.328125 33.6875 34.8125 36.53125 \nQ 39.546875 41.84375 41.421875 45.53125 \nQ 43.3125 49.21875 43.3125 52.78125 \nQ 43.3125 58.59375 39.234375 62.25 \nQ 35.15625 65.921875 28.609375 65.921875 \nQ 23.96875 65.921875 18.8125 64.3125 \nQ 13.671875 62.703125 7.8125 59.421875 \nL 7.8125 69.390625 \nQ 13.765625 71.78125 18.9375 73 \nQ 24.125 74.21875 28.421875 74.21875 \nQ 39.75 74.21875 46.484375 68.546875 \nQ 53.21875 62.890625 53.21875 53.421875 \nQ 53.21875 48.921875 51.53125 44.890625 \nQ 49.859375 40.875 45.40625 35.40625 \nQ 44.1875 33.984375 37.640625 27.21875 \nQ 31.109375 20.453125 19.1875 8.296875 \nz\n\" id=\"DejaVuSans-50\"/>\n      </defs>\n      <g transform=\"translate(299.696875 239.238437)scale(0.1 -0.1)\">\n       <use xlink:href=\"#DejaVuSans-50\"/>\n      </g>\n     </g>\n    </g>\n   </g>\n   <g id=\"matplotlib.axis_2\">\n    <g id=\"ytick_1\">\n     <g id=\"line2d_4\">\n      <defs>\n       <path d=\"M 0 0 \nL -3.5 0 \n\" id=\"ma9473d38b2\" style=\"stroke:#000000;stroke-width:0.8;\"/>\n      </defs>\n      <g>\n       <use style=\"stroke:#000000;stroke-width:0.8;\" x=\"23.878125\" xlink:href=\"#ma9473d38b2\" y=\"43.44\"/>\n      </g>\n     </g>\n     <g id=\"text_4\">\n      <!-- 0 -->\n      <g transform=\"translate(14.798438 46.003281)rotate(-90)scale(0.1 -0.1)\">\n       <use xlink:href=\"#DejaVuSans-48\"/>\n      </g>\n     </g>\n    </g>\n    <g id=\"ytick_2\">\n     <g id=\"line2d_5\">\n      <g>\n       <use style=\"stroke:#000000;stroke-width:0.8;\" x=\"23.878125\" xlink:href=\"#ma9473d38b2\" y=\"115.92\"/>\n      </g>\n     </g>\n     <g id=\"text_5\">\n      <!-- 1 -->\n      <g transform=\"translate(14.798438 118.483281)rotate(-90)scale(0.1 -0.1)\">\n       <use xlink:href=\"#DejaVuSans-49\"/>\n      </g>\n     </g>\n    </g>\n    <g id=\"ytick_3\">\n     <g id=\"line2d_6\">\n      <g>\n       <use style=\"stroke:#000000;stroke-width:0.8;\" x=\"23.878125\" xlink:href=\"#ma9473d38b2\" y=\"188.4\"/>\n      </g>\n     </g>\n     <g id=\"text_6\">\n      <!-- 2 -->\n      <g transform=\"translate(14.798438 190.963281)rotate(-90)scale(0.1 -0.1)\">\n       <use xlink:href=\"#DejaVuSans-50\"/>\n      </g>\n     </g>\n    </g>\n   </g>\n   <g id=\"text_7\">\n    <!-- 19 -->\n    <defs>\n     <path d=\"M 10.984375 1.515625 \nL 10.984375 10.5 \nQ 14.703125 8.734375 18.5 7.8125 \nQ 22.3125 6.890625 25.984375 6.890625 \nQ 35.75 6.890625 40.890625 13.453125 \nQ 46.046875 20.015625 46.78125 33.40625 \nQ 43.953125 29.203125 39.59375 26.953125 \nQ 35.25 24.703125 29.984375 24.703125 \nQ 19.046875 24.703125 12.671875 31.3125 \nQ 6.296875 37.9375 6.296875 49.421875 \nQ 6.296875 60.640625 12.9375 67.421875 \nQ 19.578125 74.21875 30.609375 74.21875 \nQ 43.265625 74.21875 49.921875 64.515625 \nQ 56.59375 54.828125 56.59375 36.375 \nQ 56.59375 19.140625 48.40625 8.859375 \nQ 40.234375 -1.421875 26.421875 -1.421875 \nQ 22.703125 -1.421875 18.890625 -0.6875 \nQ 15.09375 0.046875 10.984375 1.515625 \nz\nM 30.609375 32.421875 \nQ 37.25 32.421875 41.125 36.953125 \nQ 45.015625 41.5 45.015625 49.421875 \nQ 45.015625 57.28125 41.125 61.84375 \nQ 37.25 66.40625 30.609375 66.40625 \nQ 23.96875 66.40625 20.09375 61.84375 \nQ 16.21875 57.28125 16.21875 49.421875 \nQ 16.21875 41.5 20.09375 36.953125 \nQ 23.96875 32.421875 30.609375 32.421875 \nz\n\" id=\"DejaVuSans-57\"/>\n    </defs>\n    <g style=\"fill:#ffffff;\" transform=\"translate(73.315625 46.199375)scale(0.1 -0.1)\">\n     <use xlink:href=\"#DejaVuSans-49\"/>\n     <use x=\"63.623047\" xlink:href=\"#DejaVuSans-57\"/>\n    </g>\n   </g>\n   <g id=\"text_8\">\n    <!-- 0 -->\n    <g style=\"fill:#262626;\" transform=\"translate(188.096875 46.199375)scale(0.1 -0.1)\">\n     <use xlink:href=\"#DejaVuSans-48\"/>\n    </g>\n   </g>\n   <g id=\"text_9\">\n    <!-- 0 -->\n    <g style=\"fill:#262626;\" transform=\"translate(299.696875 46.199375)scale(0.1 -0.1)\">\n     <use xlink:href=\"#DejaVuSans-48\"/>\n    </g>\n   </g>\n   <g id=\"text_10\">\n    <!-- 0 -->\n    <g style=\"fill:#262626;\" transform=\"translate(76.496875 118.679375)scale(0.1 -0.1)\">\n     <use xlink:href=\"#DejaVuSans-48\"/>\n    </g>\n   </g>\n   <g id=\"text_11\">\n    <!-- 20 -->\n    <g style=\"fill:#ffffff;\" transform=\"translate(184.915625 118.679375)scale(0.1 -0.1)\">\n     <use xlink:href=\"#DejaVuSans-50\"/>\n     <use x=\"63.623047\" xlink:href=\"#DejaVuSans-48\"/>\n    </g>\n   </g>\n   <g id=\"text_12\">\n    <!-- 1 -->\n    <g style=\"fill:#262626;\" transform=\"translate(299.696875 118.679375)scale(0.1 -0.1)\">\n     <use xlink:href=\"#DejaVuSans-49\"/>\n    </g>\n   </g>\n   <g id=\"text_13\">\n    <!-- 0 -->\n    <g style=\"fill:#262626;\" transform=\"translate(76.496875 191.159375)scale(0.1 -0.1)\">\n     <use xlink:href=\"#DejaVuSans-48\"/>\n    </g>\n   </g>\n   <g id=\"text_14\">\n    <!-- 0 -->\n    <g style=\"fill:#262626;\" transform=\"translate(188.096875 191.159375)scale(0.1 -0.1)\">\n     <use xlink:href=\"#DejaVuSans-48\"/>\n    </g>\n   </g>\n   <g id=\"text_15\">\n    <!-- 14 -->\n    <defs>\n     <path d=\"M 37.796875 64.3125 \nL 12.890625 25.390625 \nL 37.796875 25.390625 \nz\nM 35.203125 72.90625 \nL 47.609375 72.90625 \nL 47.609375 25.390625 \nL 58.015625 25.390625 \nL 58.015625 17.1875 \nL 47.609375 17.1875 \nL 47.609375 0 \nL 37.796875 0 \nL 37.796875 17.1875 \nL 4.890625 17.1875 \nL 4.890625 26.703125 \nz\n\" id=\"DejaVuSans-52\"/>\n    </defs>\n    <g style=\"fill:#ffffff;\" transform=\"translate(296.515625 191.159375)scale(0.1 -0.1)\">\n     <use xlink:href=\"#DejaVuSans-49\"/>\n     <use x=\"63.623047\" xlink:href=\"#DejaVuSans-52\"/>\n    </g>\n   </g>\n  </g>\n </g>\n <defs>\n  <clipPath id=\"pbec452acc0\">\n   <rect height=\"217.44\" width=\"334.8\" x=\"23.878125\" y=\"7.2\"/>\n  </clipPath>\n </defs>\n</svg>\n",
      "image/png": "[encoded data removed]"
     },
     "metadata": {
      "needs_background": "light"
     }
    }
   ],
   "source": [
    "model = LogisticRegression()\n",
    "model.fit(X_train, y_train)\n",
    "y_pred = model.predict(X_test)\n",
    "cfm = confusion_matrix(y_test, y_pred)\n",
    "sns.heatmap(cfm, cbar=False, annot=True, cmap=\"Greens\", fmt=\"d\")"
   ]
  },
  {
   "cell_type": "code",
   "execution_count": 118,
   "metadata": {},
   "outputs": [
    {
     "output_type": "stream",
     "name": "stdout",
     "text": "precision    recall  f1-score   support\n\n         0.0       1.00      1.00      1.00        19\n         1.0       1.00      0.95      0.98        21\n         2.0       0.93      1.00      0.97        14\n\n    accuracy                           0.98        54\n   macro avg       0.98      0.98      0.98        54\nweighted avg       0.98      0.98      0.98        54\n\n"
    }
   ],
   "source": [
    "print(classification_report(y_test, y_pred))"
   ]
  },
  {
   "cell_type": "markdown",
   "metadata": {},
   "source": [
    "### Using LogisticRegression the results where better than using KNeighborsClassifier\n",
    "\n",
    "- It had one positive result more in the confusion at class \"1\"\n",
    "- LogisticRegression precision \\[1, 1, 0.93\\] compared to KNN Classifier precision \\[0.95, 1, 0.93\\]\n",
    "- Accuracy for LogisticRegression 0.98, for KNeighborsClassifier 0.96"
   ]
  }
 ],
 "metadata": {
  "language_info": {
   "codemirror_mode": {
    "name": "ipython",
    "version": 3
   },
   "file_extension": ".py",
   "mimetype": "text/x-python",
   "name": "python",
   "nbconvert_exporter": "python",
   "pygments_lexer": "ipython3",
   "version": "3.7.6-final"
  },
  "orig_nbformat": 2,
  "kernelspec": {
   "name": "python37664bitbasecondad966c2a1159e4e1ca37dbb425c4d7f40",
   "display_name": "Python 3.7.6 64-bit ('base': conda)"
  }
 },
 "nbformat": 4,
 "nbformat_minor": 2
}