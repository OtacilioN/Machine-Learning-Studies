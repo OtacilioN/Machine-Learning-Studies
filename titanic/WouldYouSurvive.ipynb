{
 "nbformat": 4,
 "nbformat_minor": 2,
 "metadata": {
  "language_info": {
   "name": "python",
   "codemirror_mode": {
    "name": "ipython",
    "version": 3
   },
   "version": "3.7.6-final"
  },
  "orig_nbformat": 2,
  "file_extension": ".py",
  "mimetype": "text/x-python",
  "name": "python",
  "npconvert_exporter": "python",
  "pygments_lexer": "ipython3",
  "version": 3,
  "kernelspec": {
   "name": "python37664bitbasecondad966c2a1159e4e1ca37dbb425c4d7f40",
   "display_name": "Python 3.7.6 64-bit ('base': conda)"
  }
 },
 "cells": [
  {
   "cell_type": "code",
   "execution_count": 73,
   "metadata": {},
   "outputs": [],
   "source": [
    "import pandas as pd\n",
    "import seaborn as sns, numpy as np\n",
    "import matplotlib.pyplot as plt\n",
    "from sklearn.preprocessing import MinMaxScaler\n",
    "\n",
    "df = pd.read_csv('train.csv')"
   ]
  },
  {
   "cell_type": "code",
   "execution_count": 74,
   "metadata": {},
   "outputs": [],
   "source": [
    "df['Sex'] = df[['Sex']].apply(lambda x : 0 if (x.Sex == 'female' or x.Sex == 0) else 1,axis=1)"
   ]
  },
  {
   "cell_type": "code",
   "execution_count": 75,
   "metadata": {},
   "outputs": [],
   "source": [
    "from sklearn.model_selection import train_test_split\n",
    "y = df[['Survived']]\n",
    "X = df[['Pclass', 'Sex', 'SibSp']]"
   ]
  },
  {
   "cell_type": "code",
   "execution_count": 76,
   "metadata": {},
   "outputs": [
    {
     "output_type": "execute_result",
     "data": {
      "text/plain": "KNeighborsClassifier(algorithm='auto', leaf_size=30, metric='minkowski',\n                     metric_params=None, n_jobs=None, n_neighbors=7, p=2,\n                     weights='uniform')"
     },
     "metadata": {},
     "execution_count": 76
    }
   ],
   "source": [
    "from sklearn.neighbors import KNeighborsClassifier \n",
    "from sklearn.metrics import accuracy_score\n",
    "classifier = KNeighborsClassifier(n_neighbors=7)\n",
    "classifier.fit(X, y)"
   ]
  },
  {
   "cell_type": "code",
   "execution_count": 77,
   "metadata": {},
   "outputs": [
    {
     "output_type": "stream",
     "name": "stdout",
     "text": "Você morreu!\n"
    }
   ],
   "source": [
    "p_class = int(input(\"Qual das classes do navio você está? (1, 2 ou 3)\"))\n",
    "sex = int(input(\"Qual o sexo do passageiro? (0 female - 1 others)\"))\n",
    "sib_sp = int(input(\"Quantos irmãos, marido/esposa a bordo?\"))\n",
    "# PassengerId 12 - (1, 0, 0) - Viveu\n",
    "# PassengerId 13 - (3, 1, 0) - Morreu\n",
    "\n",
    "person = {'Pclass': [p_class], 'Sex': [sex], 'SibSp': [sib_sp]}\n",
    "X_test = pd.DataFrame(person, columns=['Pclass', 'Sex', 'SibSp'])\n",
    "pred = classifier.predict(X_test)\n",
    "if(pred[0]):\n",
    "    print(\"Você viveu!\")\n",
    "else:\n",
    "    print(\"Você morreu!\")"
   ]
  },
  {
   "cell_type": "code",
   "execution_count": null,
   "metadata": {},
   "outputs": [],
   "source": []
  }
 ]
}